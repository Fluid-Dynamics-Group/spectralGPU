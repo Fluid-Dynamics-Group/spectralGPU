{
 "cells": [
  {
   "cell_type": "code",
   "execution_count": 46,
   "id": "6c201a5c",
   "metadata": {},
   "outputs": [],
   "source": [
    "from sage.manifolds.operators import laplacian, curl"
   ]
  },
  {
   "cell_type": "code",
   "execution_count": 1,
   "id": "25e0e6a4",
   "metadata": {},
   "outputs": [],
   "source": [
    "E.<x,y,z> = EuclideanSpace()"
   ]
  },
  {
   "cell_type": "code",
   "execution_count": 27,
   "id": "b11fb5fe",
   "metadata": {},
   "outputs": [],
   "source": [
    "v = E.vector_field(\n",
    "    sin(x) * cos(y) * cos(z),\n",
    "    -cos(x) * sin(y) * cos(z),\n",
    "    0,\n",
    "    name='U'\n",
    ")"
   ]
  },
  {
   "cell_type": "code",
   "execution_count": 37,
   "id": "a0e1a79a",
   "metadata": {},
   "outputs": [
    {
     "data": {
      "text/plain": [
       "curl(U) = -cos(x)*sin(y)*sin(z) e_x - cos(y)*sin(x)*sin(z) e_y + 2*cos(z)*sin(x)*sin(y) e_z"
      ]
     },
     "execution_count": 37,
     "metadata": {},
     "output_type": "execute_result"
    }
   ],
   "source": [
    "v.curl().display()"
   ]
  },
  {
   "cell_type": "code",
   "execution_count": 39,
   "id": "24dec662",
   "metadata": {},
   "outputs": [
    {
     "data": {
      "text/plain": [
       "div(U): E^3 → ℝ\n",
       "   (x, y, z) ↦ 0"
      ]
     },
     "execution_count": 39,
     "metadata": {},
     "output_type": "execute_result"
    }
   ],
   "source": [
    "v.divergence().display()"
   ]
  },
  {
   "cell_type": "code",
   "execution_count": 45,
   "id": "4790a4ec",
   "metadata": {},
   "outputs": [
    {
     "data": {
      "text/plain": [
       "Delta(U) = -3*cos(y)*cos(z)*sin(x) e_x + 3*cos(x)*cos(z)*sin(y) e_y"
      ]
     },
     "execution_count": 45,
     "metadata": {},
     "output_type": "execute_result"
    }
   ],
   "source": [
    "laplacian(v).display()"
   ]
  },
  {
   "cell_type": "code",
   "execution_count": 47,
   "id": "c4142019",
   "metadata": {},
   "outputs": [
    {
     "data": {
      "text/plain": [
       "curl(U) = -cos(x)*sin(y)*sin(z) e_x - cos(y)*sin(x)*sin(z) e_y + 2*cos(z)*sin(x)*sin(y) e_z"
      ]
     },
     "execution_count": 47,
     "metadata": {},
     "output_type": "execute_result"
    }
   ],
   "source": [
    "curl(v).display()"
   ]
  },
  {
   "cell_type": "code",
   "execution_count": 50,
   "id": "9868457e",
   "metadata": {},
   "outputs": [
    {
     "data": {
      "text/plain": [
       "['__add__',\n",
       " '__annotations__',\n",
       " '__bool__',\n",
       " '__call__',\n",
       " '__class__',\n",
       " '__copy__',\n",
       " '__delattr__',\n",
       " '__dict__',\n",
       " '__dir__',\n",
       " '__doc__',\n",
       " '__eq__',\n",
       " '__floordiv__',\n",
       " '__format__',\n",
       " '__ge__',\n",
       " '__getattribute__',\n",
       " '__getitem__',\n",
       " '__getmetaclass__',\n",
       " '__getstate__',\n",
       " '__gt__',\n",
       " '__hash__',\n",
       " '__init__',\n",
       " '__init_subclass__',\n",
       " '__le__',\n",
       " '__lt__',\n",
       " '__matmul__',\n",
       " '__mod__',\n",
       " '__module__',\n",
       " '__mul__',\n",
       " '__ne__',\n",
       " '__neg__',\n",
       " '__new__',\n",
       " '__pari__',\n",
       " '__pos__',\n",
       " '__pow__',\n",
       " '__pyx_vtable__',\n",
       " '__radd__',\n",
       " '__reduce__',\n",
       " '__reduce_ex__',\n",
       " '__repr__',\n",
       " '__rfloordiv__',\n",
       " '__rmatmul__',\n",
       " '__rmod__',\n",
       " '__rmul__',\n",
       " '__rpow__',\n",
       " '__rsub__',\n",
       " '__rtruediv__',\n",
       " '__rxor__',\n",
       " '__setattr__',\n",
       " '__setitem__',\n",
       " '__setstate__',\n",
       " '__sizeof__',\n",
       " '__slots__',\n",
       " '__str__',\n",
       " '__sub__',\n",
       " '__subclasshook__',\n",
       " '__truediv__',\n",
       " '__weakref__',\n",
       " '__xor__',\n",
       " '_act_on_',\n",
       " '_acted_upon_',\n",
       " '_add_',\n",
       " '_add_comp_unsafe',\n",
       " '_add_parent',\n",
       " '_ambient_domain',\n",
       " '_antisym',\n",
       " '_ascii_art_',\n",
       " '_axiom_',\n",
       " '_axiom_init_',\n",
       " '_cache_key',\n",
       " '_cmp_',\n",
       " '_coeff_repr',\n",
       " '_common_coord_frame',\n",
       " '_common_subdomains',\n",
       " '_components',\n",
       " '_del_dependencies',\n",
       " '_del_derived',\n",
       " '_del_restrictions',\n",
       " '_doccls',\n",
       " '_domain',\n",
       " '_dummy_attribute',\n",
       " '_extensions_graph',\n",
       " '_final_repr',\n",
       " '_fmodule',\n",
       " '_fricas_',\n",
       " '_fricas_init_',\n",
       " '_gap_',\n",
       " '_gap_init_',\n",
       " '_giac_',\n",
       " '_giac_init_',\n",
       " '_gp_',\n",
       " '_gp_init_',\n",
       " '_im_gens_',\n",
       " '_init_components',\n",
       " '_init_dependencies',\n",
       " '_init_derived',\n",
       " '_interface_',\n",
       " '_interface_init_',\n",
       " '_interface_is_cached_',\n",
       " '_is_atomic',\n",
       " '_is_zero',\n",
       " '_kash_',\n",
       " '_kash_init_',\n",
       " '_latex_',\n",
       " '_latex_coeff_repr',\n",
       " '_latex_name',\n",
       " '_libgap_',\n",
       " '_libgap_init_',\n",
       " '_lie_der_along_self',\n",
       " '_lie_derivatives',\n",
       " '_lmul_',\n",
       " '_macaulay2_',\n",
       " '_macaulay2_init_',\n",
       " '_magma_init_',\n",
       " '_maple_',\n",
       " '_maple_init_',\n",
       " '_mathematica_',\n",
       " '_mathematica_init_',\n",
       " '_mathics_',\n",
       " '_mathics_init_',\n",
       " '_maxima_',\n",
       " '_maxima_init_',\n",
       " '_maxima_lib_',\n",
       " '_maxima_lib_init_',\n",
       " '_mpmath_',\n",
       " '_name',\n",
       " '_neg_',\n",
       " '_new_comp',\n",
       " '_new_instance',\n",
       " '_octave_',\n",
       " '_octave_init_',\n",
       " '_pari_init_',\n",
       " '_polymake_',\n",
       " '_polymake_init_',\n",
       " '_preparse_display',\n",
       " '_r_init_',\n",
       " '_reduction',\n",
       " '_repr_',\n",
       " '_restrictions',\n",
       " '_restrictions_graph',\n",
       " '_richcmp_',\n",
       " '_rmul_',\n",
       " '_sage_',\n",
       " '_set_comp_unsafe',\n",
       " '_set_parent',\n",
       " '_singular_',\n",
       " '_singular_init_',\n",
       " '_sub_',\n",
       " '_sym',\n",
       " '_tensor_rank',\n",
       " '_tensor_type',\n",
       " '_test_category',\n",
       " '_test_eq',\n",
       " '_test_new',\n",
       " '_test_nonzero_equal',\n",
       " '_test_not_implemented_methods',\n",
       " '_test_pickling',\n",
       " '_tester',\n",
       " '_unicode_art_',\n",
       " '_vmodule',\n",
       " 'add_comp',\n",
       " 'add_comp_by_continuation',\n",
       " 'add_expr_from_subdomain',\n",
       " 'additive_order',\n",
       " 'along',\n",
       " 'antisymmetrize',\n",
       " 'apply_map',\n",
       " 'at',\n",
       " 'base_extend',\n",
       " 'base_module',\n",
       " 'base_ring',\n",
       " 'bracket',\n",
       " 'cartesian_product',\n",
       " 'category',\n",
       " 'common_basis',\n",
       " 'comp',\n",
       " 'components',\n",
       " 'contract',\n",
       " 'copy',\n",
       " 'copy_from',\n",
       " 'cross',\n",
       " 'cross_product',\n",
       " 'curl',\n",
       " 'dalembertian',\n",
       " 'degree',\n",
       " 'del_other_comp',\n",
       " 'disp',\n",
       " 'display',\n",
       " 'display_comp',\n",
       " 'div',\n",
       " 'divergence',\n",
       " 'domain',\n",
       " 'dot',\n",
       " 'dot_product',\n",
       " 'down',\n",
       " 'dump',\n",
       " 'dumps',\n",
       " 'interior_product',\n",
       " 'is_immutable',\n",
       " 'is_mutable',\n",
       " 'is_zero',\n",
       " 'laplacian',\n",
       " 'lie_der',\n",
       " 'lie_derivative',\n",
       " 'n',\n",
       " 'norm',\n",
       " 'numerical_approx',\n",
       " 'order',\n",
       " 'parent',\n",
       " 'pick_a_basis',\n",
       " 'plot',\n",
       " 'rename',\n",
       " 'reset_name',\n",
       " 'restrict',\n",
       " 'save',\n",
       " 'series_expansion',\n",
       " 'set_calc_order',\n",
       " 'set_comp',\n",
       " 'set_immutable',\n",
       " 'set_name',\n",
       " 'set_restriction',\n",
       " 'subs',\n",
       " 'substitute',\n",
       " 'symmetries',\n",
       " 'symmetrize',\n",
       " 'tensor_rank',\n",
       " 'tensor_type',\n",
       " 'trace',\n",
       " 'truncate',\n",
       " 'up',\n",
       " 'wedge']"
      ]
     },
     "execution_count": 50,
     "metadata": {},
     "output_type": "execute_result"
    }
   ],
   "source": [
    "dir(curl(v))"
   ]
  },
  {
   "cell_type": "code",
   "execution_count": null,
   "id": "3a042f1a",
   "metadata": {},
   "outputs": [],
   "source": []
  },
  {
   "cell_type": "code",
   "execution_count": null,
   "id": "84e915f1",
   "metadata": {},
   "outputs": [],
   "source": []
  }
 ],
 "metadata": {
  "kernelspec": {
   "display_name": "SageMath 9.8",
   "language": "sage",
   "name": "sagemath"
  },
  "language_info": {
   "codemirror_mode": {
    "name": "ipython",
    "version": 3
   },
   "file_extension": ".py",
   "mimetype": "text/x-python",
   "name": "python",
   "nbconvert_exporter": "python",
   "pygments_lexer": "ipython3",
   "version": "3.10.10"
  }
 },
 "nbformat": 4,
 "nbformat_minor": 5
}
