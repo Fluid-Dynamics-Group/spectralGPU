{
 "cells": [
  {
   "cell_type": "code",
   "execution_count": 1,
   "id": "3d802773",
   "metadata": {},
   "outputs": [],
   "source": [
    "import numpy as np\n",
    "from numpy import fft"
   ]
  },
  {
   "cell_type": "code",
   "execution_count": 8,
   "id": "2a67eb8f",
   "metadata": {},
   "outputs": [],
   "source": [
    "N = 8\n",
    "rank = 1\n",
    "Np = 8\n",
    "\n",
    "kx = fft.fftfreq(N, 1./N)\n",
    "ky = kx[rank*Np:(rank+1)*Np].copy()\n",
    "kz = kx[:(N//2+1)].copy()\n",
    "kz[-1] *= -1\n",
    "\n",
    "#(3, N, Np, Np)\n",
    "K = np.array(np.meshgrid(kx, ky, kz, indexing='ij'), dtype=int)"
   ]
  },
  {
   "cell_type": "code",
   "execution_count": 9,
   "id": "b329139c",
   "metadata": {},
   "outputs": [
    {
     "data": {
      "text/plain": [
       "array([], shape=(3, 8, 0, 5), dtype=int64)"
      ]
     },
     "execution_count": 9,
     "metadata": {},
     "output_type": "execute_result"
    }
   ],
   "source": [
    "K"
   ]
  },
  {
   "cell_type": "code",
   "execution_count": 12,
   "id": "0e0fba90",
   "metadata": {},
   "outputs": [],
   "source": [
    "def fftn_single(u, fu):\n",
    "    fu [:] = rfftn (u , axes =( 0 ,1 , 2 ) )\n",
    "\n",
    "def ifftn_mpi(fu, u):\n",
    "    u[:] = irfftn ( fu , axes =( 0 ,1 , 2 ) )"
   ]
  },
  {
   "cell_type": "code",
   "execution_count": null,
   "id": "44cea490",
   "metadata": {},
   "outputs": [],
   "source": []
  },
  {
   "cell_type": "code",
   "execution_count": null,
   "id": "f26bb8c7",
   "metadata": {},
   "outputs": [],
   "source": []
  }
 ],
 "metadata": {
  "kernelspec": {
   "display_name": "Python 3 (ipykernel)",
   "language": "python",
   "name": "python3"
  },
  "language_info": {
   "codemirror_mode": {
    "name": "ipython",
    "version": 3
   },
   "file_extension": ".py",
   "mimetype": "text/x-python",
   "name": "python",
   "nbconvert_exporter": "python",
   "pygments_lexer": "ipython3",
   "version": "3.11.3"
  }
 },
 "nbformat": 4,
 "nbformat_minor": 5
}
