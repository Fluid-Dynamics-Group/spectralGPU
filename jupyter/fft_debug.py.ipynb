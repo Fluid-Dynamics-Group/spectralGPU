{
 "cells": [
  {
   "cell_type": "code",
   "execution_count": null,
   "id": "8f243277",
   "metadata": {},
   "outputs": [],
   "source": [
    "# import numpy as np\n",
    "# from numpy import fft\n",
    "# from math import pi\n",
    "import matplotlib.pyplot as plt"
   ]
  },
  {
   "cell_type": "code",
   "execution_count": null,
   "id": "1e929060",
   "metadata": {},
   "outputs": [],
   "source": [
    "#! /bin/python3\n",
    "\n",
    "__author__ = \"Mikael Mortensen <mikaem@math.uio.no>\"\n",
    "__date__ = \"2015-01-02\"\n",
    "__copyright__ = \"Copyright (C) 2014-2018 \" + __author__\n",
    "__license__ = \"GNU Lesser GPL version 3 or any later version\"\n",
    "#pylint: disable=reimported,redefined-outer-name\n",
    "from time import time\n",
    "from numpy import *\n",
    "import numpy as np\n",
    "from numpy.fft import fftfreq, fft, ifft, irfft2, rfft2\n",
    "from mpi4py import MPI\n",
    "\n",
    "try:\n",
    "    from pyfftw.interfaces.numpy_fft import fft, ifft, irfft2, rfft2\n",
    "    import pyfftw\n",
    "    pyfftw.interfaces.cache.enable()\n",
    "\n",
    "except ImportError:\n",
    "    pass\n",
    "\n",
    "nu = 0.000625\n",
    "T = 0.1\n",
    "dt = 0.01\n",
    "N = 2**6\n",
    "comm = MPI.COMM_WORLD\n",
    "num_processes = comm.Get_size()\n",
    "print(f\"num processes is {num_processes}\")\n",
    "rank = comm.Get_rank()\n",
    "Np = N // num_processes\n",
    "X = mgrid[rank*Np:(rank+1)*Np, :N, :N].astype(float)*2*pi/N\n",
    "U = empty((3, Np, N, N))\n",
    "U_hat = empty((3, N, Np, N//2+1), dtype=complex)\n",
    "P = empty((Np, N, N))\n",
    "P_hat = empty((N, Np, N//2+1), dtype=complex)\n",
    "U_hat0 = empty((3, N, Np, N//2+1), dtype=complex)\n",
    "U_hat1 = empty((3, N, Np, N//2+1), dtype=complex)\n",
    "dU = empty((3, N, Np, N//2+1), dtype=complex)\n",
    "Uc_hat = empty((N, Np, N//2+1), dtype=complex)\n",
    "Uc_hatT = empty((Np, N, N//2+1), dtype=complex)\n",
    "curl = empty((3, Np, N, N))\n",
    "cross = empty((3, Np, N, N))\n",
    "\n",
    "kx = fftfreq(N, 1./N)\n",
    "kz = kx[:(N//2+1)].copy()\n",
    "kz[-1] *= -1\n",
    "K = array(meshgrid(kx, kx[rank*Np:(rank+1)*Np], kz, indexing='ij'), dtype=int)\n",
    "K2 = sum(K*K, 0, dtype=int)\n",
    "K_over_K2 = K.astype(float) / where(K2 == 0, 1, K2).astype(float)\n",
    "kmax_dealias = 2./3.*(N//2+1)\n",
    "dealias = array((abs(K[0]) < kmax_dealias)*(abs(K[1]) < kmax_dealias)*\n",
    "                (abs(K[2]) < kmax_dealias), dtype=bool)\n",
    "a = [1./6., 1./3., 1./3., 1./6.]\n",
    "b = [0.5, 0.5, 1.]\n",
    "\n",
    "def fftn_mpi(u, fu):\n",
    "    Uc_hatT[:] = rfft2(u, axes=(1, 2))\n",
    "    fu[:] = rollaxis(Uc_hatT.reshape(Np, num_processes, Np, N//2+1), 1).reshape(fu.shape)\n",
    "    comm.Alltoall(MPI.IN_PLACE, [fu, MPI.DOUBLE_COMPLEX])\n",
    "    fu[:] = fft(fu, axis=0)\n",
    "    return fu\n",
    "\n",
    "def ifftn_mpi(fu, u):\n",
    "    Uc_hat[:] = ifft(fu, axis=0)\n",
    "    comm.Alltoall(MPI.IN_PLACE, [Uc_hat, MPI.DOUBLE_COMPLEX])\n",
    "    Uc_hatT[:] = rollaxis(Uc_hat.reshape((num_processes, Np, Np, N//2+1)), 1).reshape(Uc_hatT.shape)\n",
    "    u[:] = irfft2(Uc_hatT, axes=(1, 2))\n",
    "    return u\n",
    "\n",
    "def Cross(a, b, c):\n",
    "    c[0] = fftn_mpi(a[1]*b[2]-a[2]*b[1], c[0])\n",
    "    c[1] = fftn_mpi(a[2]*b[0]-a[0]*b[2], c[1])\n",
    "    c[2] = fftn_mpi(a[0]*b[1]-a[1]*b[0], c[2])\n",
    "    return c\n",
    "#@profile\n",
    "def Curl(a, c):\n",
    "    c[2] = ifftn_mpi(1j*(K[0]*a[1]-K[1]*a[0]), c[2])\n",
    "    c[1] = ifftn_mpi(1j*(K[2]*a[0]-K[0]*a[2]), c[1])\n",
    "    c[0] = ifftn_mpi(1j*(K[1]*a[2]-K[2]*a[1]), c[0])\n",
    "    return c\n",
    "#@profile\n",
    "def ComputeRHS(dU, rk):\n",
    "    if rk > 0:\n",
    "        for i in range(3):\n",
    "            U[i] = ifftn_mpi(U_hat[i], U[i])\n",
    "    curl[:] = Curl(U_hat, curl)\n",
    "    dU = Cross(U, curl, dU)\n",
    "    dU *= dealias\n",
    "    P_hat[:] = sum(dU*K_over_K2, 0, out=P_hat)\n",
    "    dU -= P_hat*K\n",
    "    dU -= nu*K2*U_hat\n",
    "    return dU\n",
    "\n",
    "U[0] = sin(X[0])*cos(X[1])*cos(X[2])\n",
    "U[1] = -cos(X[0])*sin(X[1])*cos(X[2])\n",
    "U[2] = 0\n",
    "for i in range(3):\n",
    "    U_hat[i] = fftn_mpi(U[i], U_hat[i])\n",
    "\n",
    "# t = 0.0\n",
    "# tstep = 0\n",
    "# t0 = time()\n",
    "# while t < T-1e-8:\n",
    "#     t += dt\n",
    "#     tstep += 1\n",
    "#     U_hat1[:] = U_hat0[:] = U_hat\n",
    "#     for rk in range(4):\n",
    "#         dU = ComputeRHS(dU, rk)\n",
    "\n",
    "#         if rk < 3:\n",
    "#             U_hat[:] = U_hat0 + b[rk]*dt*dU\n",
    "#         U_hat1[:] += a[rk]*dt*dU\n",
    "#     U_hat[:] = U_hat1[:]\n",
    "#     for i in range(3):\n",
    "#         U[i] = ifftn_mpi(U_hat[i], U[i])\n",
    "        \n",
    "#     energy = np.sum(U * U) * (2 * pi)**3 / (2 * N**3)\n",
    "#     print(energy)\n",
    "\n",
    "# k = comm.reduce(0.5*sum(U*U)*(1./N)**3)\n",
    "# if rank == 0:\n",
    "#     print(\"Time = {}\".format(time()-t0))\n",
    "#     assert round(k - 0.124953117517, 7) == 0\n"
   ]
  },
  {
   "cell_type": "code",
   "execution_count": null,
   "id": "0d973ef2",
   "metadata": {},
   "outputs": [],
   "source": [
    "dU = ComputeRHS(dU, 0)\n",
    "for i in range(3):\n",
    "    cross[i] = ifftn_mpi(dU[i], cross[i])\n",
    "    \n",
    "print(\"dU expected value\")\n",
    "print(np.sum(np.abs(cross)))\n",
    "for i in range(3):\n",
    "    print(np.sum(np.abs(cross[i])))\n"
   ]
  },
  {
   "cell_type": "code",
   "execution_count": null,
   "id": "cc1bf575",
   "metadata": {},
   "outputs": [],
   "source": [
    "# for i in range(3):\n",
    "#     U[i] = ifftn_mpi(U_hat[i], U[i])\n",
    "curl[:] = Curl(U_hat, curl)\n",
    "dU = Cross(U, curl, dU)\n",
    "\n",
    "for i in range(3):\n",
    "    cross[i] = ifftn_mpi(dU[i], cross[i])\n",
    "\n",
    "    \n",
    "print(\"curl terms\")\n",
    "print(np.sum(np.abs(curl[0, :, :, :])))\n",
    "print(np.sum(np.abs(curl[1])))\n",
    "print(np.sum(np.abs(curl[2])))\n",
    "\n",
    "print(\"===cross results===\")\n",
    "print(np.sum(np.abs(cross)))\n",
    "print(np.sum(np.abs(cross[0])))\n",
    "print(np.sum(np.abs(cross[1])))\n",
    "print(np.sum(np.abs(cross[2])))"
   ]
  },
  {
   "cell_type": "code",
   "execution_count": null,
   "id": "3afa3735",
   "metadata": {},
   "outputs": [],
   "source": [
    "# K[0, :, 0, 0]"
   ]
  },
  {
   "cell_type": "code",
   "execution_count": null,
   "id": "32510109",
   "metadata": {},
   "outputs": [],
   "source": [
    "# K[1, 0, :, 0]"
   ]
  },
  {
   "cell_type": "code",
   "execution_count": null,
   "id": "d0e06477",
   "metadata": {},
   "outputs": [],
   "source": [
    "# K[2, 0, 0, :]"
   ]
  },
  {
   "cell_type": "code",
   "execution_count": null,
   "id": "8f2f5f30",
   "metadata": {},
   "outputs": [],
   "source": [
    "# X[0, :, 0, 0]"
   ]
  },
  {
   "cell_type": "code",
   "execution_count": null,
   "id": "f57ccccc",
   "metadata": {},
   "outputs": [],
   "source": [
    "# X[1, 0, :, 0]"
   ]
  },
  {
   "cell_type": "code",
   "execution_count": null,
   "id": "6edc3df9",
   "metadata": {},
   "outputs": [],
   "source": [
    "# X[2, 0, 0, :]"
   ]
  },
  {
   "cell_type": "code",
   "execution_count": null,
   "id": "e2caffd1",
   "metadata": {},
   "outputs": [],
   "source": [
    "plt.contourf(curl[0, :, :, 32])\n",
    "plt.colorbar()"
   ]
  },
  {
   "cell_type": "code",
   "execution_count": null,
   "id": "5fc57a8e",
   "metadata": {},
   "outputs": [],
   "source": [
    "plt.contourf(curl[1, :, :, 32])\n",
    "plt.colorbar()"
   ]
  },
  {
   "cell_type": "code",
   "execution_count": null,
   "id": "f87bed71",
   "metadata": {},
   "outputs": [],
   "source": [
    "plt.contourf(curl[2, :, :, 32])\n",
    "plt.colorbar()"
   ]
  },
  {
   "cell_type": "code",
   "execution_count": null,
   "id": "f729aff2",
   "metadata": {},
   "outputs": [],
   "source": [
    "plt.contourf(U[0, :, :, 64].transpose())\n",
    "plt.colorbar()"
   ]
  },
  {
   "cell_type": "code",
   "execution_count": null,
   "id": "a93ee19e",
   "metadata": {},
   "outputs": [],
   "source": [
    "# plt.contourf(U[1, :, :, 32].transpose())\n",
    "# plt.colorbar()"
   ]
  },
  {
   "cell_type": "code",
   "execution_count": null,
   "id": "a31c9206",
   "metadata": {},
   "outputs": [],
   "source": [
    "# plt.contourf(U[2, :, :, 32])\n",
    "# plt.colorbar()"
   ]
  },
  {
   "cell_type": "code",
   "execution_count": null,
   "id": "a2133510",
   "metadata": {},
   "outputs": [],
   "source": [
    "# def fftn_single(u, fu):\n",
    "#     fu[:] = fft.rfftn (u , axes =( 0 ,1 , 2 ) )\n",
    "#     return fu\n",
    "\n",
    "# def ifftn_single(fu, u):\n",
    "#     u[:] = fft.irfftn ( fu , axes =( 0 ,1 , 2 ) )\n",
    "#     return u"
   ]
  },
  {
   "cell_type": "code",
   "execution_count": null,
   "id": "e4757549",
   "metadata": {},
   "outputs": [],
   "source": [
    "# u = np.sin(X[0])\n",
    "# uback = np.zeros((N, N, N))\n",
    "# uhat = np.zeros((N, N, kn), dtype = complex)"
   ]
  },
  {
   "cell_type": "code",
   "execution_count": null,
   "id": "67dd846e",
   "metadata": {},
   "outputs": [],
   "source": [
    "# fftn_single(u, uhat);\n",
    "# ifftn_single(uhat, uback);\n",
    "\n",
    "# print(uhat.sum())\n",
    "# print(uhat.shape)"
   ]
  },
  {
   "cell_type": "code",
   "execution_count": null,
   "id": "6ab5d3cf",
   "metadata": {},
   "outputs": [],
   "source": [
    "# plt.contourf(u[:, :, 0].transpose())"
   ]
  },
  {
   "cell_type": "code",
   "execution_count": null,
   "id": "bf76c6f6",
   "metadata": {},
   "outputs": [],
   "source": [
    "# plt.contourf(uback[:, :, 0].transpose())"
   ]
  },
  {
   "cell_type": "code",
   "execution_count": null,
   "id": "3f5623fd",
   "metadata": {},
   "outputs": [],
   "source": [
    "# def dot_arr3(left: np.ndarray, right: np.ndarray, out: np.ndarray):\n",
    "#     return np.sum(left * right, axis = 0, out = out)\n",
    "\n",
    "# def Curl(a, c):\n",
    "#     c[2] = ifftn_single(1j*(K[0]*a[1]-K[1]*a[0]), c[2])\n",
    "#     c[1] = ifftn_single(1j*(K[2]*a[0]-K[0]*a[2]), c[1])\n",
    "#     c[0] = ifftn_single(1j*(K[1]*a[2]-K[2]*a[1]), c[0])\n",
    "#     return c\n",
    "\n",
    "# def forcing(\n",
    "#     U: np.ndarray,\n",
    "#     U_hat: np.ndarray,\n",
    "#     curl: np.ndarray,\n",
    "#     f_1 :np.ndarray,\n",
    "#     f_2 :np.ndarray,\n",
    "#     f_u :np.ndarray,\n",
    "#     f_u_hat :np.ndarray,\n",
    "#     epsilon_1: float,\n",
    "#     epsilon_2: float,\n",
    "# ):\n",
    "#     # curl here is vorcitiy (omega) in x-space\n",
    "#     curl[:] = Curl(U_hat, curl)\n",
    "\n",
    "#     # compute some dot products\n",
    "#     u_dot_omega[:] = dot_arr3(U, curl, u_dot_omega)\n",
    "#     u_dot_u[:] = dot_arr3(U, U, u_dot_u)\n",
    "#     omega_dot_omega[:] = dot_arr3(curl, curl, omega_dot_omega)\n",
    "\n",
    "#     f_1[:] = (u_dot_omega * curl)\n",
    "#     f_1[:] -= (omega_dot_omega * U)\n",
    "\n",
    "#     f_2[:] = u_dot_omega * U\n",
    "#     f_2[:] -= u_dot_u * curl\n",
    "\n",
    "\n",
    "#     # construct final f_u vector\n",
    "#     f_u[:] = (epsilon_1  * f_1[:]) + (epsilon_2 * f_2[:])\n",
    "\n",
    "#     # go back to fourier space\n",
    "#     for i in reversed(range(0,3)):\n",
    "#         f_u_hat[i] = fftn_single(f_u[i], f_u_hat[i])\n",
    "\n",
    "# #     return f_u_hat[:]\n",
    "#     return U_hat[:]\n"
   ]
  },
  {
   "cell_type": "code",
   "execution_count": null,
   "id": "9130ed6f",
   "metadata": {},
   "outputs": [],
   "source": [
    "# def taylor_green(U: np.ndarray, X: np.ndarray, U_hat: np.ndarray):\n",
    "#     U[0] = np.sin(X[0])*np.cos(X[1])*np.cos(X[2])\n",
    "#     U[1] = -np.cos(X[0])*np.sin(X[1])*np.cos(X[2])\n",
    "#     U[2] = 0\n",
    "\n",
    "#     for i in reversed(range(0,3)):\n",
    "#         U_hat[i] = fftn_single(U[i], U_hat[i])\n",
    "#     return U"
   ]
  },
  {
   "cell_type": "code",
   "execution_count": null,
   "id": "08de097c",
   "metadata": {},
   "outputs": [],
   "source": [
    "# # forcing(U, U_hat, curl, f_1, f_2, f_u, f_u_hat, 1., 1.);\n",
    "# forcing(U, U_hat, curl, f_1, f_2, f_u, f_u_hat, 0., -2056376780.81);\n",
    "# print(np.sum(np.abs(f_1)))\n",
    "# print(np.sum(np.abs(f_2)))\n",
    "# print(np.sum(np.abs(f_u)))"
   ]
  },
  {
   "cell_type": "code",
   "execution_count": null,
   "id": "76f16a45",
   "metadata": {},
   "outputs": [],
   "source": [
    "def _contour3(array):\n",
    "    I = int(N / 2) -1\n",
    "    \n",
    "    fig, ax = plt.subplots(1,3, figsize=(12,5))\n",
    "\n",
    "    for i in range(3):\n",
    "        p = ax[i].contourf(array[i, :, :, I].transpose())\n",
    "        plt.colorbar(p, ax=ax[i])"
   ]
  },
  {
   "cell_type": "code",
   "execution_count": null,
   "id": "84fe81c9",
   "metadata": {},
   "outputs": [],
   "source": [
    "_contour3(U)"
   ]
  },
  {
   "cell_type": "code",
   "execution_count": null,
   "id": "ae23f581",
   "metadata": {},
   "outputs": [],
   "source": [
    "_contour3(curl)"
   ]
  },
  {
   "cell_type": "code",
   "execution_count": null,
   "id": "16d37188",
   "metadata": {},
   "outputs": [],
   "source": [
    "_contour3(cross)"
   ]
  },
  {
   "cell_type": "code",
   "execution_count": null,
   "id": "b6e3ce6e",
   "metadata": {},
   "outputs": [],
   "source": [
    "np.sum(np.abs(curl[0, :, :, :])) / N**3"
   ]
  },
  {
   "cell_type": "code",
   "execution_count": null,
   "id": "fad2ca5d",
   "metadata": {},
   "outputs": [],
   "source": [
    "np.max(curl[0, :, :, 63])"
   ]
  },
  {
   "cell_type": "code",
   "execution_count": null,
   "id": "31652e21",
   "metadata": {},
   "outputs": [],
   "source": [
    "def _line3(array):\n",
    "    I = int(N / 2) -1\n",
    "    print(I)\n",
    "#     slices = [\n",
    "#         [:, I, I, 1],\n",
    "#         [I, :, I, 2],\n",
    "#         [I, I, :, 3]\n",
    "#     ]\n",
    "    \n",
    "    fig, ax = plt.subplots(1,3, figsize=(12,5))\n",
    "    \n",
    "    ax[0].plot(\n",
    "        range(N),\n",
    "        array[0, :, I, I]\n",
    "    )\n",
    "    ax[1].plot(\n",
    "        range(N),\n",
    "        array[1, I, :, I]\n",
    "    )\n",
    "    ax[2].plot(\n",
    "        range(N),\n",
    "        array[2, I, I, :]\n",
    "    )\n",
    "\n",
    "#     return fig"
   ]
  },
  {
   "cell_type": "code",
   "execution_count": null,
   "id": "decdc429",
   "metadata": {},
   "outputs": [],
   "source": [
    "_line3(U)"
   ]
  },
  {
   "cell_type": "code",
   "execution_count": null,
   "id": "d5548ce2",
   "metadata": {},
   "outputs": [],
   "source": [
    "_line3(curl)"
   ]
  },
  {
   "cell_type": "code",
   "execution_count": null,
   "id": "b69f9569",
   "metadata": {},
   "outputs": [],
   "source": [
    "_line3(cross)"
   ]
  },
  {
   "cell_type": "code",
   "execution_count": null,
   "id": "e0f89c7e",
   "metadata": {},
   "outputs": [],
   "source": []
  },
  {
   "cell_type": "code",
   "execution_count": null,
   "id": "8c640af0",
   "metadata": {},
   "outputs": [],
   "source": []
  },
  {
   "cell_type": "code",
   "execution_count": null,
   "id": "cd6973e0",
   "metadata": {},
   "outputs": [],
   "source": []
  },
  {
   "cell_type": "code",
   "execution_count": null,
   "id": "ed5b40fc",
   "metadata": {},
   "outputs": [],
   "source": []
  }
 ],
 "metadata": {
  "kernelspec": {
   "display_name": "Python 3 (ipykernel)",
   "language": "python",
   "name": "python3"
  },
  "language_info": {
   "codemirror_mode": {
    "name": "ipython",
    "version": 3
   },
   "file_extension": ".py",
   "mimetype": "text/x-python",
   "name": "python",
   "nbconvert_exporter": "python",
   "pygments_lexer": "ipython3"
  }
 },
 "nbformat": 4,
 "nbformat_minor": 5
}
