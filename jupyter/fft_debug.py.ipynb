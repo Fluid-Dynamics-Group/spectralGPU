{
 "cells": [
  {
   "cell_type": "code",
   "execution_count": 54,
   "id": "c5574ad8",
   "metadata": {},
   "outputs": [],
   "source": [
    "import numpy as np\n",
    "from numpy import fft\n",
    "from math import pi\n",
    "import matplotlib.pyplot as plt"
   ]
  },
  {
   "cell_type": "code",
   "execution_count": 55,
   "id": "b92b2e5d",
   "metadata": {},
   "outputs": [],
   "source": [
    "N = 8\n",
    "rank = 0\n",
    "Np = 8\n",
    "\n",
    "kn = N//2 + 1\n",
    "\n",
    "kx = fft.fftfreq(N, 1./N)\n",
    "ky = kx[rank*Np:(rank+1)*Np].copy()\n",
    "kz = kx[:(N//2+1)].copy()\n",
    "kz[-1] *= -1\n",
    "\n",
    "#(3, N, Np, Np)\n",
    "K = np.array(np.meshgrid(kx, ky, kz, indexing='ij'), dtype=int)\n",
    "\n",
    "X = np.mgrid[rank*Np:(rank+1)*Np, :N, :N].astype(float)*2*pi/N"
   ]
  },
  {
   "cell_type": "code",
   "execution_count": 56,
   "id": "e23269fc",
   "metadata": {},
   "outputs": [
    {
     "name": "stdout",
     "output_type": "stream",
     "text": [
      "(8,)\n",
      "(8,)\n",
      "(5,)\n"
     ]
    }
   ],
   "source": [
    "print(kx.shape)\n",
    "print(ky.shape)\n",
    "print(kz.shape)\n",
    "K;"
   ]
  },
  {
   "cell_type": "code",
   "execution_count": 68,
   "id": "f3e91211",
   "metadata": {},
   "outputs": [
    {
     "data": {
      "text/plain": [
       "5.497787143782138"
      ]
     },
     "execution_count": 68,
     "metadata": {},
     "output_type": "execute_result"
    }
   ],
   "source": [
    "np.max(X[0])"
   ]
  },
  {
   "cell_type": "code",
   "execution_count": 57,
   "id": "f37638b8",
   "metadata": {},
   "outputs": [],
   "source": [
    "def fftn_single(u, fu):\n",
    "    fu[:] = fft.rfftn (u , axes =( 0 ,1 , 2 ) )\n",
    "\n",
    "def ifftn_single(fu, u):\n",
    "    u[:] = fft.irfftn ( fu , axes =( 0 ,1 , 2 ) )"
   ]
  },
  {
   "cell_type": "code",
   "execution_count": 58,
   "id": "acc98409",
   "metadata": {},
   "outputs": [],
   "source": [
    "u = np.sin(X[0])\n",
    "uback = np.zeros((N, N, N))\n",
    "uhat = np.zeros((N, N, kn), dtype = complex)"
   ]
  },
  {
   "cell_type": "code",
   "execution_count": 59,
   "id": "487cfa3b",
   "metadata": {},
   "outputs": [
    {
     "name": "stdout",
     "output_type": "stream",
     "text": [
      "0j\n",
      "(8, 8, 5)\n"
     ]
    }
   ],
   "source": [
    "fftn_single(u, uhat);\n",
    "ifftn_single(uhat, uback);\n",
    "\n",
    "print(uhat.sum())\n",
    "print(uhat.shape)"
   ]
  },
  {
   "cell_type": "code",
   "execution_count": 64,
   "id": "61c1500f",
   "metadata": {},
   "outputs": [
    {
     "data": {
      "text/plain": [
       "<matplotlib.contour.QuadContourSet at 0x7f40a027b3d0>"
      ]
     },
     "execution_count": 64,
     "metadata": {},
     "output_type": "execute_result"
    },
    {
     "data": {
      "image/png": "[encoded data removed]",
      "text/plain": [
       "<Figure size 640x480 with 1 Axes>"
      ]
     },
     "metadata": {},
     "output_type": "display_data"
    }
   ],
   "source": [
    "plt.contourf(u[:, :, 0].transpose())"
   ]
  },
  {
   "cell_type": "code",
   "execution_count": 67,
   "id": "84b291bd",
   "metadata": {},
   "outputs": [
    {
     "data": {
      "text/plain": [
       "<matplotlib.contour.QuadContourSet at 0x7f40a0b614d0>"
      ]
     },
     "execution_count": 67,
     "metadata": {},
     "output_type": "execute_result"
    },
    {
     "data": {
      "image/png": "[encoded data removed]",
      "text/plain": [
       "<Figure size 640x480 with 1 Axes>"
      ]
     },
     "metadata": {},
     "output_type": "display_data"
    }
   ],
   "source": [
    "plt.contourf(uback[:, :, 0].transpose())"
   ]
  },
  {
   "cell_type": "code",
   "execution_count": null,
   "id": "eae3f5fc",
   "metadata": {},
   "outputs": [],
   "source": []
  }
 ],
 "metadata": {
  "kernelspec": {
   "display_name": "Python 3 (ipykernel)",
   "language": "python",
   "name": "python3"
  },
  "language_info": {
   "codemirror_mode": {
    "name": "ipython",
    "version": 3
   },
   "file_extension": ".py",
   "mimetype": "text/x-python",
   "name": "python",
   "nbconvert_exporter": "python",
   "pygments_lexer": "ipython3",
   "version": "3.11.3"
  }
 },
 "nbformat": 4,
 "nbformat_minor": 5
}
