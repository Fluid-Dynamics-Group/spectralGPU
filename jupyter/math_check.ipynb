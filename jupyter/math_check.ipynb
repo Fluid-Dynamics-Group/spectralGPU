{
 "cells": [
  {
   "cell_type": "code",
   "execution_count": null,
   "id": "b55b26b3",
   "metadata": {},
   "outputs": [],
   "source": [
    "from sage.manifolds.operators import laplacian, curl"
   ]
  },
  {
   "cell_type": "code",
   "execution_count": null,
   "id": "f8840c61",
   "metadata": {},
   "outputs": [],
   "source": [
    "E.<x,y,z> = EuclideanSpace()"
   ]
  },
  {
   "cell_type": "code",
   "execution_count": null,
   "id": "6cbe4e76",
   "metadata": {},
   "outputs": [],
   "source": [
    "v = E.vector_field(\n",
    "    sin(x) * cos(y) * cos(z),\n",
    "    -cos(x) * sin(y) * cos(z),\n",
    "    0,\n",
    "    name='U'\n",
    ");\n",
    "v.display()"
   ]
  },
  {
   "cell_type": "code",
   "execution_count": null,
   "id": "4fe1ea82",
   "metadata": {},
   "outputs": [],
   "source": [
    "vorticity = v.curl();\n",
    "vorticity.display()"
   ]
  },
  {
   "cell_type": "code",
   "execution_count": null,
   "id": "cc23e7be",
   "metadata": {},
   "outputs": [],
   "source": [
    "v.divergence().display()"
   ]
  },
  {
   "cell_type": "code",
   "execution_count": null,
   "id": "30c26951",
   "metadata": {},
   "outputs": [],
   "source": [
    "helicity_density = vorticity.dot(v)\n",
    "helicity_density.display()"
   ]
  },
  {
   "cell_type": "code",
   "execution_count": null,
   "id": "8078df01",
   "metadata": {},
   "outputs": [],
   "source": []
  },
  {
   "cell_type": "code",
   "execution_count": null,
   "id": "4e989e76",
   "metadata": {},
   "outputs": [],
   "source": []
  }
 ],
 "metadata": {
  "kernelspec": {
   "display_name": "SageMath 9.8",
   "language": "sage",
   "name": "sagemath"
  },
  "language_info": {
   "codemirror_mode": {
    "name": "ipython",
    "version": 3
   },
   "file_extension": ".py",
   "mimetype": "text/x-python",
   "name": "python",
   "nbconvert_exporter": "python",
   "pygments_lexer": "ipython3"
  }
 },
 "nbformat": 4,
 "nbformat_minor": 5
}
